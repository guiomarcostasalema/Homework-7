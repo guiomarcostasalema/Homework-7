{
  "nbformat": 4,
  "nbformat_minor": 0,
  "metadata": {
    "colab": {
      "provenance": []
    },
    "kernelspec": {
      "name": "python3",
      "display_name": "Python 3"
    },
    "language_info": {
      "name": "python"
    }
  },
  "cells": [
    {
      "cell_type": "code",
      "source": [
        "import requests\n",
        "from bs4 import BeautifulSoup\n",
        "from datetime import datetime\n",
        "import matplotlib.pyplot as plt"
      ],
      "metadata": {
        "id": "9P0_su_VXPXA"
      },
      "execution_count": 28,
      "outputs": []
    },
    {
      "cell_type": "markdown",
      "source": [
        "Defining the base URL of the website"
      ],
      "metadata": {
        "id": "VgNvlnaJXUoo"
      }
    },
    {
      "cell_type": "code",
      "source": [
        "base_url = \"https://www.ucp.pt/pt-pt/noticias?search_api_fulltext=&field_date=&page=\""
      ],
      "metadata": {
        "id": "D8QcNKXcXWx-"
      },
      "execution_count": 29,
      "outputs": []
    },
    {
      "cell_type": "markdown",
      "source": [
        "Creating empty lists to store page URLs and article timestamps"
      ],
      "metadata": {
        "id": "Cjp8lzdYXY7Q"
      }
    },
    {
      "cell_type": "code",
      "source": [
        "page_urls = []\n",
        "timestamps = []"
      ],
      "metadata": {
        "id": "5KGXTLrmXesU"
      },
      "execution_count": 30,
      "outputs": []
    },
    {
      "cell_type": "markdown",
      "source": [
        "Scraping pages and extract page URLs and article timestamps"
      ],
      "metadata": {
        "id": "afP8PoREXhN1"
      }
    },
    {
      "cell_type": "code",
      "source": [
        "page_num = 0\n",
        "response_status_code = 200\n",
        "\n",
        "while response_status_code == 200:\n",
        "    page_num += 1\n",
        "    next_page_url = base_url + str(page_num)\n",
        "    response = requests.get(next_page_url)\n",
        "    response_status_code = response.status_code\n",
        "    \n",
        "    if response_status_code == 200:\n",
        "        html_content = response.content\n",
        "        soup = BeautifulSoup(html_content, \"html.parser\")\n",
        "\n",
        "        articles = soup.find_all(\"div\", class_=\"view-content\")\n",
        "        if not articles:\n",
        "            break\n",
        "\n",
        "        for article in articles:\n",
        "            # Extract publication timestamp\n",
        "            timestamp_str = article.find(\"time\")[\"datetime\"]\n",
        "            timestamp = datetime.fromisoformat(timestamp_str)\n",
        "            timestamps.append(timestamp)"
      ],
      "metadata": {
        "id": "XRHKxmHgc8r5"
      },
      "execution_count": 51,
      "outputs": []
    },
    {
      "cell_type": "markdown",
      "source": [
        "Counting the number of articles per hour"
      ],
      "metadata": {
        "id": "pafIKwUndCqD"
      }
    },
    {
      "cell_type": "code",
      "source": [
        "articles_per_hour = {}\n",
        "for timestamp in timestamps:\n",
        "    hour = timestamp.strftime(\"%H:00\")\n",
        "    articles_per_hour[hour] = articles_per_hour.get(hour, 0) + 1"
      ],
      "metadata": {
        "id": "h-NUdfa2dDKJ"
      },
      "execution_count": 52,
      "outputs": []
    },
    {
      "cell_type": "markdown",
      "source": [
        "Creating lists for the x-axis (hours) and y-axis (article counts)"
      ],
      "metadata": {
        "id": "bNqBJomDdLTw"
      }
    },
    {
      "cell_type": "code",
      "source": [
        "hours = list(articles_per_hour.keys())\n",
        "article_counts = list(articles_per_hour.values())\n",
        "\n",
        "# Create a bar chart\n",
        "plt.bar(hours, article_counts)\n",
        "plt.xlabel(\"Hour\")\n",
        "plt.ylabel(\"Number of Articles\")\n",
        "plt.title(\"Articles per Hour\")\n",
        "plt.show()"
      ],
      "metadata": {
        "colab": {
          "base_uri": "https://localhost:8080/",
          "height": 472
        },
        "id": "68pQNtf5dUIq",
        "outputId": "7d2a6705-ec6a-4b98-da2a-06365f7f121c"
      },
      "execution_count": 54,
      "outputs": [
        {
          "output_type": "display_data",
          "data": {
            "text/plain": [
              "<Figure size 640x480 with 1 Axes>"
            ],
            "image/png": "[encoded data removed]"
          },
          "metadata": {}
        }
      ]
    },
    {
      "cell_type": "code",
      "source": [
        "import requests\n",
        "from bs4 import BeautifulSoup\n",
        "from wordcloud import WordCloud\n",
        "import matplotlib.pyplot as plt"
      ],
      "metadata": {
        "id": "XjQpdDRNjlkF"
      },
      "execution_count": 55,
      "outputs": []
    },
    {
      "cell_type": "markdown",
      "source": [
        "Defining the base URL of the website"
      ],
      "metadata": {
        "id": "abxvj3mQjpTl"
      }
    },
    {
      "cell_type": "code",
      "source": [
        "base_url = \"https://www.ucp.pt/pt-pt/noticias?search_api_fulltext=&field_date=&page=\""
      ],
      "metadata": {
        "id": "9S4Y0ha_jqP8"
      },
      "execution_count": 56,
      "outputs": []
    },
    {
      "cell_type": "markdown",
      "source": [
        "Creating an empty string to store the combined texts"
      ],
      "metadata": {
        "id": "ckqY6dvojuwL"
      }
    },
    {
      "cell_type": "code",
      "source": [
        "combined_text = \"\""
      ],
      "metadata": {
        "id": "NDZ4XZMjjxYk"
      },
      "execution_count": 57,
      "outputs": []
    },
    {
      "cell_type": "markdown",
      "source": [
        "Scraping pages and extract article titles and summaries"
      ],
      "metadata": {
        "id": "ofc-JEB6j3Ij"
      }
    },
    {
      "cell_type": "code",
      "source": [
        "page_num = 0\n",
        "response_status_code = 200"
      ],
      "metadata": {
        "id": "SEtcPyAnj3xk"
      },
      "execution_count": 58,
      "outputs": []
    },
    {
      "cell_type": "code",
      "source": [
        "while response_status_code == 200:\n",
        "    page_num += 1\n",
        "    next_page_url = base_url + str(page_num)\n",
        "    response = requests.get(next_page_url)\n",
        "    response_status_code = response.status_code\n",
        "    \n",
        "    if response_status_code == 200:\n",
        "        html_content = response.content\n",
        "        soup = BeautifulSoup(html_content, \"html.parser\")\n",
        "\n",
        "        articles = soup.find_all(\"div\", class_=\"view-content\")\n",
        "        if not articles:\n",
        "            break\n",
        "\n",
        "        for article in articles:\n",
        "            # Extract article title and summary\n",
        "            title = article.find(\"h2\").text.strip()\n",
        "            summary = article.find(\"div\", class_=\"content\").text.strip()\n",
        "            \n",
        "            # Concatenate title and summary to combined text\n",
        "            combined_text += title + \" \" + summary + \" \""
      ],
      "metadata": {
        "id": "FyIqxj-wkW73"
      },
      "execution_count": 62,
      "outputs": []
    }
  ]
}